{
 "cells": [
  {
   "cell_type": "markdown",
   "id": "9ec46c4b",
   "metadata": {},
   "source": [
    "# 1. Function to calculate the sum and average of three float numbers\n"
   ]
  },
  {
   "cell_type": "code",
   "execution_count": 3,
   "id": "e39c3a23",
   "metadata": {},
   "outputs": [
    {
     "name": "stdout",
     "output_type": "stream",
     "text": [
      "Enter the first number: 12\n",
      "Enter the second number: 54\n",
      "Enter the third number: 76\n",
      "Sum of the three numbers: 142.0\n",
      "Average of the three numbers: 47.333333333333336\n"
     ]
    }
   ],
   "source": [
    "def calculate_sum_and_average(num1, num2, num3):\n",
    "    # Calculate the sum\n",
    "    total_sum = num1 + num2 + num3\n",
    "\n",
    "    # Calculate the average\n",
    "    average = total_sum / 3\n",
    "\n",
    "    return total_sum, average\n",
    "\n",
    "# Input: Three float numbers\n",
    "num1 = float(input(\"Enter the first number: \"))\n",
    "num2 = float(input(\"Enter the second number: \"))\n",
    "num3 = float(input(\"Enter the third number: \"))\n",
    "\n",
    "# Get the sum and average\n",
    "total_sum, average = calculate_sum_and_average(num1, num2, num3)\n",
    "\n",
    "# Output the results\n",
    "print(f\"Sum of the three numbers: {total_sum}\")\n",
    "print(f\"Average of the three numbers: {average}\")\n"
   ]
  },
  {
   "cell_type": "markdown",
   "id": "7dd4c973",
   "metadata": {},
   "source": [
    "# 2. Function to calculate the volume of a sphere\n"
   ]
  },
  {
   "cell_type": "code",
   "execution_count": 4,
   "id": "d3870fa7",
   "metadata": {},
   "outputs": [
    {
     "name": "stdout",
     "output_type": "stream",
     "text": [
      "The volume of the sphere with radius 6 cm is 904.78 cubic centimeters.\n"
     ]
    }
   ],
   "source": [
    "import math\n",
    "\n",
    "# Function to calculate the volume of a sphere\n",
    "def calculate_sphere_volume(radius):\n",
    "    # Formula for volume of a sphere: (4/3) * π * r^3\n",
    "    volume = (4/3) * math.pi * (radius**3)\n",
    "    return volume\n",
    "\n",
    "# Given radius\n",
    "radius = 6  # cm\n",
    "\n",
    "# Calculate the volume\n",
    "volume = calculate_sphere_volume(radius)\n",
    "\n",
    "# Output the result\n",
    "print(f\"The volume of the sphere with radius {radius} cm is {volume:.2f} cubic centimeters.\")\n"
   ]
  },
  {
   "cell_type": "markdown",
   "id": "94ea74e8",
   "metadata": {},
   "source": [
    "#  3. Area of a Circle\n"
   ]
  },
  {
   "cell_type": "code",
   "execution_count": 5,
   "id": "b72a0fe3",
   "metadata": {},
   "outputs": [
    {
     "name": "stdout",
     "output_type": "stream",
     "text": [
      "Enter radius: 56\n",
      "Area: 9852.03456165759 cm²\n"
     ]
    }
   ],
   "source": [
    "def area_of_circle(radius):\n",
    "    return math.pi * radius ** 2\n",
    "\n",
    "radius = float(input(\"Enter radius: \"))\n",
    "print(f\"Area: {area_of_circle(radius)} cm²\")\n"
   ]
  },
  {
   "cell_type": "markdown",
   "id": "07fa35ad",
   "metadata": {},
   "source": [
    "# 4. Compute Simple Interest\n"
   ]
  },
  {
   "cell_type": "code",
   "execution_count": 6,
   "id": "78097ba6",
   "metadata": {},
   "outputs": [
    {
     "name": "stdout",
     "output_type": "stream",
     "text": [
      "Principal: 100\n",
      "Rate: 5\n",
      "Time: 3\n",
      "Simple Interest: 15.0\n"
     ]
    }
   ],
   "source": [
    "def simple_interest(principal, rate, time):\n",
    "    return (principal * rate * time) / 100\n",
    "\n",
    "p = float(input(\"Principal: \"))\n",
    "r = float(input(\"Rate: \"))\n",
    "t = float(input(\"Time: \"))\n",
    "print(f\"Simple Interest: {simple_interest(p, r, t)}\")\n"
   ]
  },
  {
   "cell_type": "markdown",
   "id": "c3e8ec99",
   "metadata": {},
   "source": [
    "# 5. Swap Two Numbers Without Third Variable\n"
   ]
  },
  {
   "cell_type": "code",
   "execution_count": 7,
   "id": "824540e5",
   "metadata": {},
   "outputs": [
    {
     "name": "stdout",
     "output_type": "stream",
     "text": [
      "Enter first number: 54\n",
      "Enter second number: 76\n",
      "Swapped: a = 76, b = 54\n"
     ]
    }
   ],
   "source": [
    "a = int(input(\"Enter first number: \"))\n",
    "b = int(input(\"Enter second number: \"))\n",
    "a, b = b, a\n",
    "print(f\"Swapped: a = {a}, b = {b}\")\n"
   ]
  },
  {
   "cell_type": "markdown",
   "id": "c7072f85",
   "metadata": {},
   "source": [
    "# 6. Celsius to Fahrenheit\n"
   ]
  },
  {
   "cell_type": "code",
   "execution_count": 8,
   "id": "6af32b59",
   "metadata": {},
   "outputs": [
    {
     "name": "stdout",
     "output_type": "stream",
     "text": [
      "Enter temperature in Celsius: 57\n",
      "Fahrenheit: 134.6\n"
     ]
    }
   ],
   "source": [
    "def celsius_to_fahrenheit(celsius):\n",
    "    return (celsius * 9/5) + 32\n",
    "\n",
    "c = float(input(\"Enter temperature in Celsius: \"))\n",
    "print(f\"Fahrenheit: {celsius_to_fahrenheit(c)}\")\n"
   ]
  },
  {
   "cell_type": "markdown",
   "id": "cd783da6",
   "metadata": {},
   "source": [
    "# 7. Convert Days to Years, Months, Weeks, and Days\n"
   ]
  },
  {
   "cell_type": "code",
   "execution_count": 9,
   "id": "704c099f",
   "metadata": {},
   "outputs": [
    {
     "name": "stdout",
     "output_type": "stream",
     "text": [
      "Enter number of days: 35\n",
      "Years: 0, Months: 1, Weeks: 0, Days: 5\n"
     ]
    }
   ],
   "source": [
    "def convert_days(days):\n",
    "    years = days // 365\n",
    "    days %= 365\n",
    "    months = days // 30\n",
    "    days %= 30\n",
    "    weeks = days // 7\n",
    "    days %= 7\n",
    "    return years, months, weeks, days\n",
    "\n",
    "days = int(input(\"Enter number of days: \"))\n",
    "y, m, w, d = convert_days(days)\n",
    "print(f\"Years: {y}, Months: {m}, Weeks: {w}, Days: {d}\")\n"
   ]
  },
  {
   "cell_type": "markdown",
   "id": "9499f447",
   "metadata": {},
   "source": [
    "# 8. Gravitational Force Between Two Objects\n"
   ]
  },
  {
   "cell_type": "code",
   "execution_count": 10,
   "id": "e68e0d08",
   "metadata": {},
   "outputs": [
    {
     "name": "stdout",
     "output_type": "stream",
     "text": [
      "Mass of object 1: 45\n",
      "Mass of object 2: 12\n",
      "Distance between objects: 5\n",
      "Gravitational Force: 1.4415839999999997e-09 N\n"
     ]
    }
   ],
   "source": [
    "def gravitational_force(m1, m2, d, G=6.674 * (10**-11)):\n",
    "    return G * (m1 * m2) / (d ** 2)\n",
    "\n",
    "m1 = float(input(\"Mass of object 1: \"))\n",
    "m2 = float(input(\"Mass of object 2: \"))\n",
    "d = float(input(\"Distance between objects: \"))\n",
    "print(f\"Gravitational Force: {gravitational_force(m1, m2, d)} N\")\n"
   ]
  },
  {
   "cell_type": "markdown",
   "id": "0c0bed34",
   "metadata": {},
   "source": [
    "# 9. Even or Odd\n"
   ]
  },
  {
   "cell_type": "code",
   "execution_count": 11,
   "id": "efcc869f",
   "metadata": {},
   "outputs": [
    {
     "name": "stdout",
     "output_type": "stream",
     "text": [
      "Enter a number: 52\n",
      "Even\n"
     ]
    }
   ],
   "source": [
    "num = int(input(\"Enter a number: \"))\n",
    "if num % 2 == 0:\n",
    "    print(\"Even\")\n",
    "else:\n",
    "    print(\"Odd\")\n"
   ]
  },
  {
   "cell_type": "markdown",
   "id": "f144e8b7",
   "metadata": {},
   "source": [
    "# 10. Compare with 15\n"
   ]
  },
  {
   "cell_type": "code",
   "execution_count": 12,
   "id": "14a84782",
   "metadata": {},
   "outputs": [
    {
     "name": "stdout",
     "output_type": "stream",
     "text": [
      "Enter a number: 61\n",
      "92\n"
     ]
    }
   ],
   "source": [
    "num = int(input(\"Enter a number: \"))\n",
    "diff = abs(15 - num)\n",
    "if num > 15:\n",
    "    print(2 * diff)\n",
    "else:\n",
    "    print(4 * diff)\n"
   ]
  },
  {
   "cell_type": "markdown",
   "id": "e7cad375",
   "metadata": {},
   "source": [
    "# 11. Largest Among Three Numbers\n"
   ]
  },
  {
   "cell_type": "code",
   "execution_count": 15,
   "id": "bcc0c7e7",
   "metadata": {},
   "outputs": [
    {
     "name": "stdout",
     "output_type": "stream",
     "text": [
      "Enter first number: 54\n",
      "Enter second number: 87\n",
      "Enter third number: 90\n",
      "The largest number is: 90\n"
     ]
    }
   ],
   "source": [
    "# Input three numbers individually\n",
    "a = int(input(\"Enter first number: \"))\n",
    "b = int(input(\"Enter second number: \"))\n",
    "c = int(input(\"Enter third number: \"))\n",
    "\n",
    "# Find and print the largest number\n",
    "largest = max(a, b, c)\n",
    "print(f\"The largest number is: {largest}\")\n",
    " \n",
    "\n"
   ]
  },
  {
   "cell_type": "markdown",
   "id": "f8fb73bb",
   "metadata": {},
   "source": [
    "# 12. Check Triangle Type (Equilateral, Scalene, Isosceles)\n"
   ]
  },
  {
   "cell_type": "code",
   "execution_count": 18,
   "id": "060df78f",
   "metadata": {},
   "outputs": [
    {
     "name": "stdout",
     "output_type": "stream",
     "text": [
      "Enter sides of triangle: 4 5 5\n",
      "Isosceles\n"
     ]
    }
   ],
   "source": [
    "a, b, c = map(int, input(\"Enter sides of triangle: \").split())\n",
    "if a == b == c:\n",
    "    print(\"Equilateral\")\n",
    "elif a != b != c:\n",
    "    print(\"Scalene\")\n",
    "else:\n",
    "    print(\"Isosceles\")\n"
   ]
  },
  {
   "cell_type": "markdown",
   "id": "c8ed6644",
   "metadata": {},
   "source": [
    "# 13. Check Leap Year\n"
   ]
  },
  {
   "cell_type": "code",
   "execution_count": 20,
   "id": "d3569f74",
   "metadata": {},
   "outputs": [
    {
     "name": "stdout",
     "output_type": "stream",
     "text": [
      "Enter year: 2024\n",
      "Leap Year\n"
     ]
    }
   ],
   "source": [
    "year = int(input(\"Enter year: \"))\n",
    "if (year % 4 == 0 and year % 100 != 0) or (year % 400 == 0):\n",
    "    print(\"Leap Year\")\n",
    "else:\n",
    "    print(\"Not a Leap Year\")\n"
   ]
  },
  {
   "cell_type": "markdown",
   "id": "b0c85c31",
   "metadata": {},
   "source": [
    "# 14. Calculate Grade Based on Marks\n"
   ]
  },
  {
   "cell_type": "code",
   "execution_count": 1,
   "id": "0a8eb9b2",
   "metadata": {},
   "outputs": [
    {
     "name": "stdout",
     "output_type": "stream",
     "text": [
      "Enter mark 1: 34\n",
      "Enter mark 2: 65\n",
      "Enter mark 3: 10\n",
      "Enter mark 4: 90\n",
      "Average Marks: 49.75\n",
      "Your grade is: Grade C\n"
     ]
    }
   ],
   "source": [
    "# Input four marks from the user\n",
    "marks = []\n",
    "for i in range(4):\n",
    "    mark = float(input(f\"Enter mark {i+1}: \"))\n",
    "    marks.append(mark)\n",
    "\n",
    "# Calculate average of the marks\n",
    "avg = sum(marks) / len(marks)\n",
    "\n",
    "# Determine the grade based on the average\n",
    "if avg >= 75:\n",
    "    grade = \"Grade A\"\n",
    "elif avg >= 60:\n",
    "    grade = \"Grade B\"\n",
    "elif avg >= 40:\n",
    "    grade = \"Grade C\"\n",
    "else:\n",
    "    grade = \"Grade D\"\n",
    "\n",
    "# Print the grade\n",
    "print(f\"Average Marks: {avg:.2f}\")\n",
    "print(f\"Your grade is: {grade}\")\n",
    "\n"
   ]
  },
  {
   "cell_type": "markdown",
   "id": "3a5fcb88",
   "metadata": {},
   "source": [
    "# 15. Simple Calculator\n"
   ]
  },
  {
   "cell_type": "code",
   "execution_count": 2,
   "id": "c5f42feb",
   "metadata": {},
   "outputs": [
    {
     "name": "stdout",
     "output_type": "stream",
     "text": [
      "Enter first number: 56\n",
      "Enter second number: 90\n",
      "Enter operation (+, -, *, /): -\n",
      "Result: -34.0\n"
     ]
    }
   ],
   "source": [
    "def calculator(a, b, op):\n",
    "    if op == '+':\n",
    "        return a + b\n",
    "    elif op == '-':\n",
    "        return a - b\n",
    "    elif op == '*':\n",
    "        return a * b\n",
    "    elif op == '/':\n",
    "        return a / b\n",
    "    else:\n",
    "        return \"Invalid operation\"\n",
    "\n",
    "a = float(input(\"Enter first number: \"))\n",
    "b = float(input(\"Enter second number: \"))\n",
    "op = input(\"Enter operation (+, -, *, /): \")\n",
    "print(f\"Result: {calculator(a, b, op)}\")\n"
   ]
  },
  {
   "cell_type": "markdown",
   "id": "e7491354",
   "metadata": {},
   "source": [
    "# 16. Find the Roots of a Quadratic Equation\n"
   ]
  },
  {
   "cell_type": "code",
   "execution_count": 3,
   "id": "230ff3bf",
   "metadata": {},
   "outputs": [
    {
     "name": "stdout",
     "output_type": "stream",
     "text": [
      "Enter coefficient a: 5\n",
      "Enter coefficient b: 7\n",
      "Enter coefficient c: 3\n",
      "Roots are complex and different\n"
     ]
    }
   ],
   "source": [
    "import math\n",
    "\n",
    "def quadratic_roots(a, b, c):\n",
    "    discriminant = b**2 - 4*a*c\n",
    "    if discriminant > 0:\n",
    "        root1 = (-b + math.sqrt(discriminant)) / (2*a)\n",
    "        root2 = (-b - math.sqrt(discriminant)) / (2*a)\n",
    "        return f\"Roots are real and different: {root1}, {root2}\"\n",
    "    elif discriminant == 0:\n",
    "        root = -b / (2*a)\n",
    "        return f\"Roots are real and the same: {root}\"\n",
    "    else:\n",
    "        return \"Roots are complex and different\"\n",
    "\n",
    "a = int(input(\"Enter coefficient a: \"))\n",
    "b = int(input(\"Enter coefficient b: \"))\n",
    "c = int(input(\"Enter coefficient c: \"))\n",
    "print(quadratic_roots(a, b, c))\n"
   ]
  },
  {
   "cell_type": "markdown",
   "id": "a366c9a7",
   "metadata": {},
   "source": [
    "# 17. Print 1 to n\n"
   ]
  },
  {
   "cell_type": "code",
   "execution_count": 4,
   "id": "ea53772c",
   "metadata": {},
   "outputs": [
    {
     "name": "stdout",
     "output_type": "stream",
     "text": [
      "Enter the value of n: 61\n",
      "1 2 3 4 5 6 7 8 9 10 11 12 13 14 15 16 17 18 19 20 21 22 23 24 25 26 27 28 29 30 31 32 33 34 35 36 37 38 39 40 41 42 43 44 45 46 47 48 49 50 51 52 53 54 55 56 57 58 59 60 61 "
     ]
    }
   ],
   "source": [
    "def print_numbers(n):\n",
    "    for i in range(1, n+1):\n",
    "        print(i, end=' ')\n",
    "\n",
    "n = int(input(\"Enter the value of n: \"))\n",
    "print_numbers(n)\n"
   ]
  },
  {
   "cell_type": "markdown",
   "id": "e8519e62",
   "metadata": {},
   "source": [
    "# 18. Sum of Natural Numbers\n"
   ]
  },
  {
   "cell_type": "code",
   "execution_count": 5,
   "id": "69bd36f2",
   "metadata": {},
   "outputs": [
    {
     "name": "stdout",
     "output_type": "stream",
     "text": [
      "Enter the value of n: 52\n",
      "Sum of natural numbers up to 52: 1378\n"
     ]
    }
   ],
   "source": [
    "def sum_natural_numbers(n):\n",
    "    return n * (n + 1) // 2\n",
    "\n",
    "n = int(input(\"Enter the value of n: \"))\n",
    "print(f\"Sum of natural numbers up to {n}: {sum_natural_numbers(n)}\")\n"
   ]
  },
  {
   "cell_type": "markdown",
   "id": "4ae2704a",
   "metadata": {},
   "source": [
    "# 19. Sum of Digits\n"
   ]
  },
  {
   "cell_type": "code",
   "execution_count": 6,
   "id": "ad7b26cb",
   "metadata": {},
   "outputs": [
    {
     "name": "stdout",
     "output_type": "stream",
     "text": [
      "Enter a number: 65\n",
      "Sum of digits: 11\n"
     ]
    }
   ],
   "source": [
    "def sum_of_digits(num):\n",
    "    return sum(int(digit) for digit in str(num))\n",
    "\n",
    "num = int(input(\"Enter a number: \"))\n",
    "print(f\"Sum of digits: {sum_of_digits(num)}\")\n"
   ]
  },
  {
   "cell_type": "markdown",
   "id": "876e27ef",
   "metadata": {},
   "source": [
    "# 20. Print Factors of a Number\n"
   ]
  },
  {
   "cell_type": "code",
   "execution_count": 8,
   "id": "30ecdd8d",
   "metadata": {},
   "outputs": [
    {
     "name": "stdout",
     "output_type": "stream",
     "text": [
      "Enter a number: 8\n",
      "Factors of 8:\n",
      "1 2 4 8 "
     ]
    }
   ],
   "source": [
    "def print_factors(num):\n",
    "    print(f\"Factors of {num}:\")\n",
    "    for i in range(1, num + 1):\n",
    "        if num % i == 0:\n",
    "            print(i, end=' ')\n",
    "\n",
    "num = int(input(\"Enter a number: \"))\n",
    "print_factors(num)\n"
   ]
  },
  {
   "cell_type": "markdown",
   "id": "e33f0a53",
   "metadata": {},
   "source": [
    "# 21. Reverse of a Number\n"
   ]
  },
  {
   "cell_type": "code",
   "execution_count": 9,
   "id": "606ca8b7",
   "metadata": {},
   "outputs": [
    {
     "name": "stdout",
     "output_type": "stream",
     "text": [
      "Enter a number: 58\n",
      "Reverse: 85\n"
     ]
    }
   ],
   "source": [
    "def reverse_number(num):\n",
    "    return int(str(num)[::-1])\n",
    "\n",
    "num = int(input(\"Enter a number: \"))\n",
    "print(f\"Reverse: {reverse_number(num)}\")\n"
   ]
  },
  {
   "cell_type": "markdown",
   "id": "85908aec",
   "metadata": {},
   "source": [
    "# 22. Factorial of a Given Number\n"
   ]
  },
  {
   "cell_type": "code",
   "execution_count": 13,
   "id": "80301b1f",
   "metadata": {},
   "outputs": [
    {
     "name": "stdout",
     "output_type": "stream",
     "text": [
      "Enter a number: 5\n",
      "Factorial of 5: 120\n"
     ]
    }
   ],
   "source": [
    "def factorial(num):\n",
    "    if num == 0 or num == 1:\n",
    "        return 1\n",
    "    else:\n",
    "        return num * factorial(num - 1)\n",
    "\n",
    "num = int(input(\"Enter a number: \"))\n",
    "print(f\"Factorial of {num}: {factorial(num)}\")\n"
   ]
  },
  {
   "cell_type": "markdown",
   "id": "d1ef0cb0",
   "metadata": {},
   "source": [
    "# 23. Check if a Number is Palindrome\n"
   ]
  },
  {
   "cell_type": "code",
   "execution_count": 14,
   "id": "eafb7952",
   "metadata": {},
   "outputs": [
    {
     "name": "stdout",
     "output_type": "stream",
     "text": [
      "Enter a number: 656\n",
      "656 is a palindrome\n"
     ]
    }
   ],
   "source": [
    "def is_palindrome(num):\n",
    "    return str(num) == str(num)[::-1]\n",
    "\n",
    "num = int(input(\"Enter a number: \"))\n",
    "if is_palindrome(num):\n",
    "    print(f\"{num} is a palindrome\")\n",
    "else:\n",
    "    print(f\"{num} is not a palindrome\")\n"
   ]
  },
  {
   "cell_type": "markdown",
   "id": "327a6b1e",
   "metadata": {},
   "source": [
    "# 24. Check if a Number is Prime\n"
   ]
  },
  {
   "cell_type": "code",
   "execution_count": 15,
   "id": "76fb24aa",
   "metadata": {},
   "outputs": [
    {
     "name": "stdout",
     "output_type": "stream",
     "text": [
      "Enter a number: 7\n",
      "7 is prime\n"
     ]
    }
   ],
   "source": [
    "def is_prime(num):\n",
    "    if num <= 1:\n",
    "        return False\n",
    "    for i in range(2, int(num**0.5) + 1):\n",
    "        if num % i == 0:\n",
    "            return False\n",
    "    return True\n",
    "\n",
    "num = int(input(\"Enter a number: \"))\n",
    "if is_prime(num):\n",
    "    print(f\"{num} is prime\")\n",
    "else:\n",
    "    print(f\"{num} is not prime\")\n"
   ]
  },
  {
   "cell_type": "markdown",
   "id": "ef29c7de",
   "metadata": {},
   "source": [
    "# 25. Check if a Number is Armstrong\n"
   ]
  },
  {
   "cell_type": "code",
   "execution_count": 16,
   "id": "4c6d51fd",
   "metadata": {},
   "outputs": [
    {
     "name": "stdout",
     "output_type": "stream",
     "text": [
      "Enter a number: 65\n",
      "65 is not an Armstrong number\n"
     ]
    }
   ],
   "source": [
    "def is_armstrong(num):\n",
    "    num_str = str(num)\n",
    "    power = len(num_str)\n",
    "    return num == sum(int(digit) ** power for digit in num_str)\n",
    "\n",
    "num = int(input(\"Enter a number: \"))\n",
    "if is_armstrong(num):\n",
    "    print(f\"{num} is an Armstrong number\")\n",
    "else:\n",
    "    print(f\"{num} is not an Armstrong number\")\n"
   ]
  },
  {
   "cell_type": "markdown",
   "id": "89b1f61d",
   "metadata": {},
   "source": [
    "# 26. Fibonacci Series of n Terms\n"
   ]
  },
  {
   "cell_type": "code",
   "execution_count": 18,
   "id": "a4d52701",
   "metadata": {},
   "outputs": [
    {
     "name": "stdout",
     "output_type": "stream",
     "text": [
      "Enter number of terms: 5\n",
      "Fibonacci series: [0, 1, 1, 2, 3]\n"
     ]
    }
   ],
   "source": [
    "def fibonacci(n):\n",
    "    fib_series = [0, 1]\n",
    "    for i in range(2, n):\n",
    "        fib_series.append(fib_series[-1] + fib_series[-2])\n",
    "    return fib_series[:n]\n",
    "\n",
    "n = int(input(\"Enter number of terms: \"))\n",
    "print(f\"Fibonacci series: {fibonacci(n)}\")\n"
   ]
  },
  {
   "cell_type": "markdown",
   "id": "21ae1d0b",
   "metadata": {},
   "source": [
    "# 27. Multiplication Table\n"
   ]
  },
  {
   "cell_type": "code",
   "execution_count": 19,
   "id": "55e2de9e",
   "metadata": {},
   "outputs": [
    {
     "name": "stdout",
     "output_type": "stream",
     "text": [
      "Enter a number: 12\n",
      "12 x 1 = 12\n",
      "12 x 2 = 24\n",
      "12 x 3 = 36\n",
      "12 x 4 = 48\n",
      "12 x 5 = 60\n",
      "12 x 6 = 72\n",
      "12 x 7 = 84\n",
      "12 x 8 = 96\n",
      "12 x 9 = 108\n",
      "12 x 10 = 120\n"
     ]
    }
   ],
   "source": [
    "def multiplication_table(num):\n",
    "    for i in range(1, 11):\n",
    "        print(f\"{num} x {i} = {num * i}\")\n",
    "\n",
    "num = int(input(\"Enter a number: \"))\n",
    "multiplication_table(num)\n"
   ]
  },
  {
   "cell_type": "markdown",
   "id": "c5fdfd90",
   "metadata": {},
   "source": [
    "# 28. Take Input from User in a List and Print It\n"
   ]
  },
  {
   "cell_type": "code",
   "execution_count": 20,
   "id": "8d7d673a",
   "metadata": {},
   "outputs": [
    {
     "name": "stdout",
     "output_type": "stream",
     "text": [
      "Enter elements separated by space: 45 56\n",
      "List:  ['45', '56']\n"
     ]
    }
   ],
   "source": [
    "user_list = input(\"Enter elements separated by space: \").split()\n",
    "print(\"List: \", user_list)\n"
   ]
  },
  {
   "cell_type": "markdown",
   "id": "5383e50d",
   "metadata": {},
   "source": [
    "# 29. Find the Average of n Numbers Using List\n"
   ]
  },
  {
   "cell_type": "code",
   "execution_count": 21,
   "id": "ed09efb9",
   "metadata": {},
   "outputs": [
    {
     "name": "stdout",
     "output_type": "stream",
     "text": [
      "Enter numbers separated by space: 45 61\n",
      "Average: 53.0\n"
     ]
    }
   ],
   "source": [
    "def average_of_list(numbers):\n",
    "    return sum(numbers) / len(numbers)\n",
    "\n",
    "numbers = list(map(float, input(\"Enter numbers separated by space: \").split()))\n",
    "print(f\"Average: {average_of_list(numbers)}\")\n",
    "\n"
   ]
  },
  {
   "cell_type": "markdown",
   "id": "bb66a055",
   "metadata": {},
   "source": [
    "# 30. Find the Largest Element in the List\n"
   ]
  },
  {
   "cell_type": "code",
   "execution_count": 22,
   "id": "51fe81cd",
   "metadata": {},
   "outputs": [
    {
     "name": "stdout",
     "output_type": "stream",
     "text": [
      "Enter numbers separated by space: 45 79\n",
      "Largest element: 79\n"
     ]
    }
   ],
   "source": [
    "def largest_in_list(numbers):\n",
    "    return max(numbers)\n",
    "\n",
    "numbers = list(map(int, input(\"Enter numbers separated by space: \").split()))\n",
    "print(f\"Largest element: {largest_in_list(numbers)}\")\n"
   ]
  },
  {
   "cell_type": "markdown",
   "id": "59b17c61",
   "metadata": {},
   "source": [
    "# 31. Python Program for Linear Search\n"
   ]
  },
  {
   "cell_type": "code",
   "execution_count": 1,
   "id": "3d195866",
   "metadata": {},
   "outputs": [
    {
     "name": "stdout",
     "output_type": "stream",
     "text": [
      "Enter the list of numbers: 24 1 6 78 95\n",
      "Enter the target number: 78\n",
      "78 found at index 3\n"
     ]
    }
   ],
   "source": [
    "def linear_search(lst, target):\n",
    "    for i in range(len(lst)):\n",
    "        if lst[i] == target:\n",
    "            return i\n",
    "    return -1\n",
    "\n",
    "lst = list(map(int, input(\"Enter the list of numbers seperated by space: \").split()))\n",
    "target = int(input(\"Enter the target number: \"))\n",
    "index = linear_search(lst, target)\n",
    "\n",
    "if index != -1:\n",
    "    print(f\"{target} found at index {index}\")\n",
    "else:\n",
    "    print(f\"{target} not found in the list\")\n"
   ]
  },
  {
   "cell_type": "markdown",
   "id": "d9f67af8",
   "metadata": {},
   "source": [
    "# 32. Convert Input Lines to Capitalized Sentences\n"
   ]
  },
  {
   "cell_type": "code",
   "execution_count": 3,
   "id": "cd2700af",
   "metadata": {},
   "outputs": [
    {
     "name": "stdout",
     "output_type": "stream",
     "text": [
      "Enter a line (or press Enter to stop): this \n",
      "Enter a line (or press Enter to stop): is\n",
      "Enter a line (or press Enter to stop): CA1\n",
      "Enter a line (or press Enter to stop): assignment\n",
      "Enter a line (or press Enter to stop): \n",
      "THIS \n",
      "IS\n",
      "CA1\n",
      "ASSIGNMENT\n"
     ]
    }
   ],
   "source": [
    "lines = []\n",
    "while True:\n",
    "    line = input(\"Enter a line (or press Enter to stop): \")\n",
    "    if line:\n",
    "        lines.append(line.upper())\n",
    "    else:\n",
    "        break\n",
    "\n",
    "for line in lines:\n",
    "    print(line)\n"
   ]
  },
  {
   "cell_type": "markdown",
   "id": "a100d03e",
   "metadata": {},
   "source": [
    "# 33. Comma-Separated Numbers to List and Tuple\n"
   ]
  },
  {
   "cell_type": "code",
   "execution_count": 4,
   "id": "fe2223d2",
   "metadata": {},
   "outputs": [
    {
     "name": "stdout",
     "output_type": "stream",
     "text": [
      "Enter comma-separated numbers: 33, 77, 31, 84\n",
      "List: ['33', ' 77', ' 31', ' 84']\n",
      "Tuple: ('33', ' 77', ' 31', ' 84')\n"
     ]
    }
   ],
   "source": [
    "numbers = input(\"Enter comma-separated numbers: \").split(',')\n",
    "lst = list(numbers)\n",
    "tup = tuple(numbers)\n",
    "\n",
    "print(\"List:\", lst)\n",
    "print(\"Tuple:\", tup)\n"
   ]
  },
  {
   "cell_type": "markdown",
   "id": "e48e6bee",
   "metadata": {},
   "source": [
    "# 34. Bank Account Balance Calculation from Transaction Log\n"
   ]
  },
  {
   "cell_type": "code",
   "execution_count": 1,
   "id": "5818b49d",
   "metadata": {},
   "outputs": [
    {
     "name": "stdout",
     "output_type": "stream",
     "text": [
      "Enter transaction (D/W amount) or press Enter to stop: D 300\n",
      "Enter transaction (D/W amount) or press Enter to stop: D 600\n",
      "Enter transaction (D/W amount) or press Enter to stop: W 500\n",
      "Enter transaction (D/W amount) or press Enter to stop: \n",
      "Net balance: 400\n"
     ]
    }
   ],
   "source": [
    "balance = 0\n",
    "\n",
    "while True:\n",
    "    transaction = input(\"Enter transaction (D/W amount) or press Enter to stop: \")\n",
    "    if not transaction:\n",
    "        break\n",
    "    type_, amount = transaction.split()\n",
    "    amount = int(amount)\n",
    "    \n",
    "\n",
    "    if type_ == 'D':\n",
    "        balance += amount\n",
    "    elif type_ == 'W':\n",
    "        balance -= amount\n",
    "\n",
    "print(f\"Net balance: {balance}\")\n"
   ]
  }
 ],
 "metadata": {
  "kernelspec": {
   "display_name": "Python 3 (ipykernel)",
   "language": "python",
   "name": "python3"
  },
  "language_info": {
   "codemirror_mode": {
    "name": "ipython",
    "version": 3
   },
   "file_extension": ".py",
   "mimetype": "text/x-python",
   "name": "python",
   "nbconvert_exporter": "python",
   "pygments_lexer": "ipython3",
   "version": "3.11.5"
  }
 },
 "nbformat": 4,
 "nbformat_minor": 5
}
